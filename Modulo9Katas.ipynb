{
 "cells": [
  {
   "cell_type": "markdown",
   "metadata": {},
   "source": [
    "## Ejercicio1: Trabajar con argumentos en funciones"
   ]
  },
  {
   "cell_type": "code",
   "execution_count": 31,
   "metadata": {},
   "outputs": [
    {
     "name": "stdout",
     "output_type": "stream",
     "text": [
      "Reporte del tanque:\n",
      "    Promedio Total: 78.33333333333333%\n",
      "    Tanque1: 80%\n",
      "    Tanque2: 70%\n",
      "    Tanque3: 85% \n",
      "    \n"
     ]
    }
   ],
   "source": [
    "def genReporte(tanque1, tanque2, tanque3):\n",
    "    promedioTotal = (tanque1 + tanque2 + tanque3) / 3\n",
    "    return f\"\"\"Reporte del tanque:\n",
    "    Promedio Total: {promedioTotal}%\n",
    "    Tanque1: {tanque1}%\n",
    "    Tanque2: {tanque2}%\n",
    "    Tanque3: {tanque3}% \n",
    "    \"\"\"\n",
    "print(genReporte(80, 70, 85))"
   ]
  },
  {
   "cell_type": "code",
   "execution_count": 32,
   "metadata": {},
   "outputs": [
    {
     "data": {
      "text/plain": [
       "82.0"
      ]
     },
     "execution_count": 32,
     "metadata": {},
     "output_type": "execute_result"
    }
   ],
   "source": [
    "def promedio(values):\n",
    "    total = sum(values)\n",
    "    numTanques = len(values)\n",
    "    return total / numTanques\n",
    "promedio([80, 85, 81]) "
   ]
  },
  {
   "cell_type": "code",
   "execution_count": 33,
   "metadata": {},
   "outputs": [
    {
     "name": "stdout",
     "output_type": "stream",
     "text": [
      "Reporte del tanque:\n",
      "    Promedio Total: 78.0%\n",
      "    Tanque1: 88%\n",
      "    Tanque2: 76%\n",
      "    Tanque3: 70% \n",
      "    \n"
     ]
    }
   ],
   "source": [
    "def genReporte(tanque1, tanque2, tanque3):\n",
    "    return f\"\"\"Reporte del tanque:\n",
    "    Promedio Total: {promedio([tanque1, tanque2, tanque3])}%\n",
    "    Tanque1: {tanque1}%\n",
    "    Tanque2: {tanque2}%\n",
    "    Tanque3: {tanque3}% \n",
    "    \"\"\"\n",
    "print(genReporte(88, 76, 70))"
   ]
  },
  {
   "cell_type": "markdown",
   "metadata": {},
   "source": [
    "## Ejercicio2: Trabajar con argumentos de palabra clave"
   ]
  },
  {
   "cell_type": "code",
   "execution_count": 22,
   "metadata": {},
   "outputs": [
    {
     "name": "stdout",
     "output_type": "stream",
     "text": [
      "\n",
      "    Mision a Luna\n",
      "    Tiempo total de viaje: 65 minutos\n",
      "    Combustible total restante: 500000 galones\n",
      "    \n"
     ]
    }
   ],
   "source": [
    "def misReporte(hrsPreLanzamiento, tiempoVuelo, destino, tanqueExterno, tanqueInterno):\n",
    "    return f\"\"\"\n",
    "    Mision a {destino}\n",
    "    Tiempo total de viaje: {hrsPreLanzamiento + tiempoVuelo} minutos\n",
    "    Combustible total restante: {tanqueExterno + tanqueInterno} galones\n",
    "    \"\"\"\n",
    "print(misReporte(14, 51, \"Luna\", 200000, 300000))\n"
   ]
  },
  {
   "cell_type": "code",
   "execution_count": 34,
   "metadata": {},
   "outputs": [
    {
     "name": "stdout",
     "output_type": "stream",
     "text": [
      "\n",
      "    Mision a Luna\n",
      "    Tiempo total de viaje: 76 minutos\n",
      "    Combustible total restante: 500000\n",
      "    \n"
     ]
    }
   ],
   "source": [
    "def misReporte(destino, *minutos, **depCombustible):\n",
    "    return f\"\"\"\n",
    "    Mision a {destino}\n",
    "    Tiempo total de viaje: {sum(minutos)} minutos\n",
    "    Combustible total restante: {sum(depCombustible.values())}\n",
    "    \"\"\"\n",
    "print(misReporte(\"Luna\", 10, 15, 51, interno=300000, externo=200000))"
   ]
  }
 ],
 "metadata": {
  "interpreter": {
   "hash": "1576dbc3839d2bb6f846967bf266dd085010e9d9977d9e43e75a37d181d9e0b7"
  },
  "kernelspec": {
   "display_name": "Python 3.10.2 64-bit",
   "language": "python",
   "name": "python3"
  },
  "language_info": {
   "codemirror_mode": {
    "name": "ipython",
    "version": 3
   },
   "file_extension": ".py",
   "mimetype": "text/x-python",
   "name": "python",
   "nbconvert_exporter": "python",
   "pygments_lexer": "ipython3",
   "version": "3.10.2"
  },
  "orig_nbformat": 4
 },
 "nbformat": 4,
 "nbformat_minor": 2
}
