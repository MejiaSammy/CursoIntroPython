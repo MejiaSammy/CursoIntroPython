{
 "cells": [
  {
   "cell_type": "markdown",
   "metadata": {},
   "source": [
    "## Ejercicio1: Operadores Aritméticos"
   ]
  },
  {
   "cell_type": "markdown",
   "metadata": {},
   "source": [
    "Calcular la distancia entre dos planetas."
   ]
  },
  {
   "cell_type": "code",
   "execution_count": 5,
   "metadata": {},
   "outputs": [
    {
     "name": "stdout",
     "output_type": "stream",
     "text": [
      "La distancia entre los planetas es: \n",
      "628949330 km \n",
      "390577533.93 millas\n"
     ]
    }
   ],
   "source": [
    "tierra=149597870\n",
    "jupiter=778547200\n",
    "distanciaPlaneta = abs(int(jupiter) - int(tierra))\n",
    "km=0.621\n",
    "dMillasPlaneta = distanciaPlaneta * km \n",
    "print(\"La distancia entre los planetas es: \\n\"+str(distanciaPlaneta)+\" km \\n\"+str(dMillasPlaneta)+\" millas\")"
   ]
  },
  {
   "cell_type": "markdown",
   "metadata": {},
   "source": [
    "## Ejercicio2: Convertir cadenas en números y uso de valores absolutos"
   ]
  },
  {
   "cell_type": "code",
   "execution_count": 6,
   "metadata": {},
   "outputs": [
    {
     "name": "stdout",
     "output_type": "stream",
     "text": [
      "La distancia del 1er planeta desde el sol es: 30km\n",
      "La distancia del 2do planeta desde el sol es: 20km\n",
      "La distancia entre los planetas es: 10km\n",
      "La distancia entre los planetas es: 6.21 millas\n"
     ]
    }
   ],
   "source": [
    "planeta1 = input(\"Ingresa la distancia en Km del 1er planeta desde el sol: \")\n",
    "print(\"La distancia del 1er planeta desde el sol es: \"+str(planeta1)+\"km\")\n",
    "planeta2 = input(\"Ingresa la distancia en Km del 2do planeta desde el sol: \")\n",
    "print(\"La distancia del 2do planeta desde el sol es: \"+str(planeta2)+\"km\")\n",
    "distanciaPlaneta = abs(int(planeta2) - int(planeta1))\n",
    "print(\"La distancia entre los planetas es: \"+str(distanciaPlaneta)+\"km\")\n",
    "km=0.621\n",
    "dMillasPlaneta = distanciaPlaneta * km\n",
    "print(\"La distancia entre los planetas es: \"+str(dMillasPlaneta)+\" millas\")"
   ]
  }
 ],
 "metadata": {
  "interpreter": {
   "hash": "1576dbc3839d2bb6f846967bf266dd085010e9d9977d9e43e75a37d181d9e0b7"
  },
  "kernelspec": {
   "display_name": "Python 3.10.2 64-bit",
   "language": "python",
   "name": "python3"
  },
  "language_info": {
   "codemirror_mode": {
    "name": "ipython",
    "version": 3
   },
   "file_extension": ".py",
   "mimetype": "text/x-python",
   "name": "python",
   "nbconvert_exporter": "python",
   "pygments_lexer": "ipython3",
   "version": "3.10.2"
  },
  "orig_nbformat": 4
 },
 "nbformat": 4,
 "nbformat_minor": 2
}
