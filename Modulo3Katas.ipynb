{
 "cells": [
  {
   "cell_type": "markdown",
   "metadata": {},
   "source": [
    "## Declaraciones if, else y elif"
   ]
  },
  {
   "cell_type": "markdown",
   "metadata": {},
   "source": [
    "Un asteroide se acerca y viaja a una velocidad de 49 km/s"
   ]
  },
  {
   "cell_type": "code",
   "execution_count": 5,
   "metadata": {},
   "outputs": [
    {
     "name": "stdout",
     "output_type": "stream",
     "text": [
      "Cuidado un Asteroide se acerca\n"
     ]
    }
   ],
   "source": [
    "velAsteroide = 49\n",
    "if velAsteroide >= 25:\n",
    "    print (\"¡Cuidado un Asteroide se acerca!\")\n",
    "else: \n",
    "    print (\"Suerte en tu dia!\")"
   ]
  },
  {
   "cell_type": "markdown",
   "metadata": {},
   "source": [
    "Si un asteroide entra en la atmosfera de la Tierra a una velocidad mayor o igual a 20 km/s, a veces produce un rayo de luz que puede verse desde la Tierra. "
   ]
  },
  {
   "cell_type": "code",
   "execution_count": 7,
   "metadata": {},
   "outputs": [
    {
     "name": "stdout",
     "output_type": "stream",
     "text": [
      "Lo siento, no podrás ver el asteroide\n"
     ]
    }
   ],
   "source": [
    "velAsteroide = 19\n",
    "if velAsteroide >= 20:\n",
    "    print (\"¡Busca un asteroide en el cielo!\")\n",
    "elif velAsteroide == 20:\n",
    "    print (\"¡Busca un asteroide en el cielo!\")\n",
    "else:\n",
    "    print (\"Lo siento, no podrás ver el asteroide\")"
   ]
  },
  {
   "cell_type": "markdown",
   "metadata": {},
   "source": [
    "Los asteroides de menos de 25 metros en su dimensión más grande probablemente se quemarán a medida que entren en la atmósfera de la Tierra.\n",
    "\n",
    "Si una pieza de un asteroide que es más grande que 25 metros pero más pequeña que 1000 metros golpeara la Tierra, causaría mucho daño."
   ]
  },
  {
   "cell_type": "code",
   "execution_count": 8,
   "metadata": {},
   "outputs": [
    {
     "name": "stdout",
     "output_type": "stream",
     "text": [
      "Voltea al cielo!\n"
     ]
    }
   ],
   "source": [
    "velAsteroide = 25\n",
    "tamAsteroide = 40\n",
    "if velAsteroide > 25 and tamAsteroide > 25:\n",
    "    print('¡Corre por tu vida! Un asteroide se acerca!')\n",
    "elif velAsteroide >= 20:\n",
    "    print('Voltea al cielo!')\n",
    "elif velAsteroide < 25:\n",
    "    print('Todo normal')\n",
    "else:\n",
    "    print('Todo normal')"
   ]
  }
 ],
 "metadata": {
  "interpreter": {
   "hash": "1576dbc3839d2bb6f846967bf266dd085010e9d9977d9e43e75a37d181d9e0b7"
  },
  "kernelspec": {
   "display_name": "Python 3.10.2 64-bit",
   "language": "python",
   "name": "python3"
  },
  "language_info": {
   "codemirror_mode": {
    "name": "ipython",
    "version": 3
   },
   "file_extension": ".py",
   "mimetype": "text/x-python",
   "name": "python",
   "nbconvert_exporter": "python",
   "pygments_lexer": "ipython3",
   "version": "3.10.2"
  },
  "orig_nbformat": 4
 },
 "nbformat": 4,
 "nbformat_minor": 2
}
