{
 "cells": [
  {
   "cell_type": "markdown",
   "metadata": {},
   "source": [
    "## Ejercicio1: Crear y Usar listas"
   ]
  },
  {
   "cell_type": "code",
   "execution_count": 24,
   "metadata": {},
   "outputs": [
    {
     "name": "stdout",
     "output_type": "stream",
     "text": [
      "Existen 8 planetas\n",
      "['Mercurio', 'Venus', 'Tierra', 'Marte', 'Jupiter', 'Saturno', 'Urano', 'Neptuno']\n",
      "El último planeta es: Pluton\n",
      "['Mercurio', 'Venus', 'Tierra', 'Marte', 'Jupiter', 'Saturno', 'Urano', 'Neptuno', 'Pluton']\n"
     ]
    }
   ],
   "source": [
    "planets = ['Mercurio', 'Venus', 'Tierra', 'Marte', 'Jupiter', 'Saturno', 'Urano', 'Neptuno']\n",
    "print(\"Existen\", len(planets), \"planetas\")\n",
    "print(planets)\n",
    "planets.append('Pluton')\n",
    "print('El último planeta es:', planets[-1])\n",
    "print(planets)"
   ]
  },
  {
   "cell_type": "markdown",
   "metadata": {},
   "source": [
    "## Ejercicio2: Trabajando con datos de una lista"
   ]
  },
  {
   "cell_type": "code",
   "execution_count": 25,
   "metadata": {},
   "outputs": [
    {
     "name": "stdout",
     "output_type": "stream",
     "text": [
      "El planeta Sammy esta en la posición 8\n",
      "Los planetas más cercanos al sol son:\n",
      " Mercurio \n",
      " Venus \n",
      " Tierra\n",
      "Los planetas más lejanos al sol son:\n",
      " Sammy \n",
      " Neptuno \n",
      " Urano\n"
     ]
    }
   ],
   "source": [
    "planets = ['Mercurio', 'Venus', 'Tierra', 'Marte', 'Jupiter', 'Saturno', 'Urano', 'Neptuno']\n",
    "planetaNuevo = input(\"Ingresa el nombre de un planeta \\n *No olvides usar la primera letra en mayúscula* \")\n",
    "planets.append(planetaNuevo)\n",
    "planetaNuevo_index = planets.index(planetaNuevo)\n",
    "print(\"El planeta\", planetaNuevo, \"esta en la posición\", planetaNuevo_index)\n",
    "print('Los planetas más cercanos al sol son:\\n', planets[0],\"\\n\", planets[1],\"\\n\", planets[2])\n",
    "print('Los planetas más lejanos al sol son:\\n', planets[-1],\"\\n\", planets[-2],\"\\n\", planets[-3])"
   ]
  }
 ],
 "metadata": {
  "interpreter": {
   "hash": "1576dbc3839d2bb6f846967bf266dd085010e9d9977d9e43e75a37d181d9e0b7"
  },
  "kernelspec": {
   "display_name": "Python 3.10.2 64-bit",
   "language": "python",
   "name": "python3"
  },
  "language_info": {
   "codemirror_mode": {
    "name": "ipython",
    "version": 3
   },
   "file_extension": ".py",
   "mimetype": "text/x-python",
   "name": "python",
   "nbconvert_exporter": "python",
   "pygments_lexer": "ipython3",
   "version": "3.10.2"
  },
  "orig_nbformat": 4
 },
 "nbformat": 4,
 "nbformat_minor": 2
}
